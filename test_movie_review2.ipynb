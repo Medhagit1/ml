{
 "cells": [
  {
   "cell_type": "code",
   "execution_count": null,
   "metadata": {},
   "outputs": [],
   "source": [
    "\n",
    "senti_dict = {}\n",
    "\n",
    "#it's a bag of word approach , you already have a dictionary with scores for particular words , you sum them up and maintain a threshold\n",
    "# values above threshold coressponds to a positive review and threshold below it coressponds to anegative review.\n",
    "\n",
    "for each_line in open('E:\\python AI online series\\data all studied\\OneDrive_2018-01-05\\AI ML group\\senti_dict.txt'):\n",
    "     word,score = each_line.split('\\t')\n",
    "     senti_dict[word] = int(score)\n",
    "#print senti_dict.items() \n",
    "words = \"\"\" TIGER ZINDA HAI STORY: It's inspired by the real-life incident of the rescue of Indian nurses held hostage in Iraq by terrorists and at the helm of affairs of the mission is Indian RAW agent Tiger (Salman Khan).\n",
    "\n",
    "TIGER ZINDA HAI REVIEW: The story picks up from where the first film in the franchise left off. Indian RAW agent Tiger (Salman Khan) and ISI agent Zoya (Katrina Kaif) are married and living a peaceful life with their son. Eight years have gone by since they decided to choose love over their missions. But their plans will change very soon, with another mission (most impossible) coming up for this sota hua Tiger.\n",
    "\n",
    "Tiger's ex-boss Shenoy (Girish Karnad) tracks him down and wants him to rescue 25 Indian nurses who are held hostage at a hospital by a dreaded terrorist organisation that has taken over Iraq. From here, it's a Salman Khan show all the way with his star power and screen presence looming large, ably aided by Katrina Kaif who jumps into the fray as 15 Pakistani nurses who are also held hostage with the Indians need to be rescued. The other USP of this mission is, that Tiger brings together Indian and Pakistani agents to fight terror in Iraq, for the sake of humanity. And, not surprising then that there is a fair sprinkle of patriotic one-liners, too. And all this is happening with oodles of swag and style. (Obviously!)\n",
    "\n",
    "The film is visually stunning in parts and Salman Khan plays Tiger with roaring confidence and dialogues packed with punch. Of course, his fans get a true-blue Salman Khan moment when he bares his torso. However, the screenplay often loses focus, slackening the film's pace and our attention. Director Ali Abbas Zafar had a lot of ammo in hand, with the star power of Salman Khan and Katrina Kaif adding to that. But the direction falters and he is unable to keep you riveted through the film's runtime. Supporting actors that make up the rescue mission team are competent and Paresh Rawal delivers a dependable performance. Katrina Kaif gets into action-girl mode, displaying some kick-ass stunts. Meanwhile, the antagonist, Abu Usman (Sajjad Delafrooz), heading the terrorist organisation, is effective in his role.\n",
    "\n",
    "With such a premise, the storyline needed to be far more compelling and the editing much tauter. Needless to add, a lot of sequences defy logic, but at the same time, there are many moments that will leave Salman Khan and action film fans impressed.\n",
    "\n",
    "Whether Tiger is Zinda or not for the next round, that's for you to find out.\"\"\".lower().split()\n",
    "\n",
    "#print(words)\n",
    "sumtotal=sum( senti_dict.get(word, 0) for word in words )\n",
    "print sumtotal\n",
    "\n",
    "if sumtotal>0:\n",
    "    print \"positive\"\n",
    "else:\n",
    "    print \"negative\""
   ]
  }
 ],
 "metadata": {
  "kernelspec": {
   "display_name": "Python 2",
   "language": "python",
   "name": "python2"
  },
  "language_info": {
   "codemirror_mode": {
    "name": "ipython",
    "version": 2
   },
   "file_extension": ".py",
   "mimetype": "text/x-python",
   "name": "python",
   "nbconvert_exporter": "python",
   "pygments_lexer": "ipython2",
   "version": "2.7.13"
  }
 },
 "nbformat": 4,
 "nbformat_minor": 2
}
